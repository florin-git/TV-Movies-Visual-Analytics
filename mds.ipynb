{
 "cells": [
  {
   "cell_type": "code",
   "execution_count": 6,
   "metadata": {},
   "outputs": [],
   "source": [
    "import pandas as pd\n",
    "import numpy as np\n",
    "\n",
    "from matplotlib import pyplot as plt\n",
    "from sklearn import manifold\n",
    "from sklearn.preprocessing import StandardScaler"
   ]
  },
  {
   "cell_type": "code",
   "execution_count": 2,
   "metadata": {},
   "outputs": [],
   "source": [
    "final_path = \"./dataset/df_final.csv\""
   ]
  },
  {
   "cell_type": "code",
   "execution_count": 9,
   "metadata": {},
   "outputs": [],
   "source": [
    "df_final = pd.read_csv(final_path)"
   ]
  },
  {
   "cell_type": "code",
   "execution_count": 10,
   "metadata": {},
   "outputs": [
    {
     "data": {
      "text/html": [
       "<div>\n",
       "<style scoped>\n",
       "    .dataframe tbody tr th:only-of-type {\n",
       "        vertical-align: middle;\n",
       "    }\n",
       "\n",
       "    .dataframe tbody tr th {\n",
       "        vertical-align: top;\n",
       "    }\n",
       "\n",
       "    .dataframe thead th {\n",
       "        text-align: right;\n",
       "    }\n",
       "</style>\n",
       "<table border=\"1\" class=\"dataframe\">\n",
       "  <thead>\n",
       "    <tr style=\"text-align: right;\">\n",
       "      <th></th>\n",
       "      <th>day</th>\n",
       "      <th>day_number</th>\n",
       "      <th>month</th>\n",
       "      <th>daytime</th>\n",
       "      <th>hour</th>\n",
       "      <th>title</th>\n",
       "      <th>duration</th>\n",
       "      <th>duration_with_advertising</th>\n",
       "      <th>channel</th>\n",
       "      <th>year</th>\n",
       "      <th>genres</th>\n",
       "      <th>rating</th>\n",
       "      <th>advertising</th>\n",
       "    </tr>\n",
       "  </thead>\n",
       "  <tbody>\n",
       "    <tr>\n",
       "      <th>0</th>\n",
       "      <td>Martedì</td>\n",
       "      <td>25</td>\n",
       "      <td>gennaio</td>\n",
       "      <td>notte</td>\n",
       "      <td>01:10</td>\n",
       "      <td>match point</td>\n",
       "      <td>124</td>\n",
       "      <td>125</td>\n",
       "      <td>Sky Cinema Due</td>\n",
       "      <td>2005</td>\n",
       "      <td>Drama,Romance,Thriller</td>\n",
       "      <td>7.6</td>\n",
       "      <td>1</td>\n",
       "    </tr>\n",
       "    <tr>\n",
       "      <th>1</th>\n",
       "      <td>Martedì</td>\n",
       "      <td>26</td>\n",
       "      <td>aprile</td>\n",
       "      <td>notte</td>\n",
       "      <td>04:35</td>\n",
       "      <td>match point</td>\n",
       "      <td>124</td>\n",
       "      <td>125</td>\n",
       "      <td>Sky Cinema Due</td>\n",
       "      <td>2005</td>\n",
       "      <td>Drama,Romance,Thriller</td>\n",
       "      <td>7.6</td>\n",
       "      <td>1</td>\n",
       "    </tr>\n",
       "    <tr>\n",
       "      <th>2</th>\n",
       "      <td>Mercoledì</td>\n",
       "      <td>10</td>\n",
       "      <td>agosto</td>\n",
       "      <td>sera</td>\n",
       "      <td>23:10</td>\n",
       "      <td>match point</td>\n",
       "      <td>124</td>\n",
       "      <td>141</td>\n",
       "      <td>Iris</td>\n",
       "      <td>2005</td>\n",
       "      <td>Drama,Romance,Thriller</td>\n",
       "      <td>7.6</td>\n",
       "      <td>17</td>\n",
       "    </tr>\n",
       "    <tr>\n",
       "      <th>3</th>\n",
       "      <td>Lunedì</td>\n",
       "      <td>9</td>\n",
       "      <td>maggio</td>\n",
       "      <td>notte</td>\n",
       "      <td>02:25</td>\n",
       "      <td>match point</td>\n",
       "      <td>124</td>\n",
       "      <td>125</td>\n",
       "      <td>Sky Cinema Due</td>\n",
       "      <td>2005</td>\n",
       "      <td>Drama,Romance,Thriller</td>\n",
       "      <td>7.6</td>\n",
       "      <td>1</td>\n",
       "    </tr>\n",
       "    <tr>\n",
       "      <th>4</th>\n",
       "      <td>Venerdì</td>\n",
       "      <td>19</td>\n",
       "      <td>agosto</td>\n",
       "      <td>notte</td>\n",
       "      <td>01:05</td>\n",
       "      <td>match point</td>\n",
       "      <td>124</td>\n",
       "      <td>125</td>\n",
       "      <td>Sky Cinema Due</td>\n",
       "      <td>2005</td>\n",
       "      <td>Drama,Romance,Thriller</td>\n",
       "      <td>7.6</td>\n",
       "      <td>1</td>\n",
       "    </tr>\n",
       "    <tr>\n",
       "      <th>...</th>\n",
       "      <td>...</td>\n",
       "      <td>...</td>\n",
       "      <td>...</td>\n",
       "      <td>...</td>\n",
       "      <td>...</td>\n",
       "      <td>...</td>\n",
       "      <td>...</td>\n",
       "      <td>...</td>\n",
       "      <td>...</td>\n",
       "      <td>...</td>\n",
       "      <td>...</td>\n",
       "      <td>...</td>\n",
       "      <td>...</td>\n",
       "    </tr>\n",
       "    <tr>\n",
       "      <th>5138</th>\n",
       "      <td>Giovedì</td>\n",
       "      <td>10</td>\n",
       "      <td>novembre</td>\n",
       "      <td>notte</td>\n",
       "      <td>00:52</td>\n",
       "      <td>meo patacca</td>\n",
       "      <td>124</td>\n",
       "      <td>138</td>\n",
       "      <td>Rete 4</td>\n",
       "      <td>1972</td>\n",
       "      <td>Adventure,Comedy</td>\n",
       "      <td>6.2</td>\n",
       "      <td>14</td>\n",
       "    </tr>\n",
       "    <tr>\n",
       "      <th>5139</th>\n",
       "      <td>Mercoledì</td>\n",
       "      <td>2</td>\n",
       "      <td>febbraio</td>\n",
       "      <td>mattina</td>\n",
       "      <td>08:47</td>\n",
       "      <td>i prepotenti</td>\n",
       "      <td>93</td>\n",
       "      <td>101</td>\n",
       "      <td>Iris</td>\n",
       "      <td>1958</td>\n",
       "      <td>Comedy</td>\n",
       "      <td>6.5</td>\n",
       "      <td>8</td>\n",
       "    </tr>\n",
       "    <tr>\n",
       "      <th>5140</th>\n",
       "      <td>Lunedì</td>\n",
       "      <td>9</td>\n",
       "      <td>maggio</td>\n",
       "      <td>mattina</td>\n",
       "      <td>08:11</td>\n",
       "      <td>le soldatesse</td>\n",
       "      <td>119</td>\n",
       "      <td>139</td>\n",
       "      <td>Iris</td>\n",
       "      <td>1965</td>\n",
       "      <td>Drama,War</td>\n",
       "      <td>7.5</td>\n",
       "      <td>20</td>\n",
       "    </tr>\n",
       "    <tr>\n",
       "      <th>5141</th>\n",
       "      <td>Venerdì</td>\n",
       "      <td>2</td>\n",
       "      <td>settembre</td>\n",
       "      <td>notte</td>\n",
       "      <td>02:30</td>\n",
       "      <td>6000 km di paura</td>\n",
       "      <td>90</td>\n",
       "      <td>92</td>\n",
       "      <td>Rete 4</td>\n",
       "      <td>1978</td>\n",
       "      <td>Action,Adventure</td>\n",
       "      <td>4.8</td>\n",
       "      <td>2</td>\n",
       "    </tr>\n",
       "    <tr>\n",
       "      <th>5142</th>\n",
       "      <td>Venerdì</td>\n",
       "      <td>22</td>\n",
       "      <td>luglio</td>\n",
       "      <td>notte</td>\n",
       "      <td>02:25</td>\n",
       "      <td>la polizia ha le mani legate</td>\n",
       "      <td>95</td>\n",
       "      <td>97</td>\n",
       "      <td>Rete 4</td>\n",
       "      <td>1975</td>\n",
       "      <td>Action,Crime,Drama</td>\n",
       "      <td>6.7</td>\n",
       "      <td>2</td>\n",
       "    </tr>\n",
       "  </tbody>\n",
       "</table>\n",
       "<p>5143 rows × 13 columns</p>\n",
       "</div>"
      ],
      "text/plain": [
       "            day  day_number      month  daytime   hour  \\\n",
       "0       Martedì          25    gennaio    notte  01:10   \n",
       "1       Martedì          26     aprile    notte  04:35   \n",
       "2     Mercoledì          10     agosto     sera  23:10   \n",
       "3        Lunedì           9     maggio    notte  02:25   \n",
       "4       Venerdì          19     agosto    notte  01:05   \n",
       "...         ...         ...        ...      ...    ...   \n",
       "5138    Giovedì          10   novembre    notte  00:52   \n",
       "5139  Mercoledì           2   febbraio  mattina  08:47   \n",
       "5140     Lunedì           9     maggio  mattina  08:11   \n",
       "5141    Venerdì           2  settembre    notte  02:30   \n",
       "5142    Venerdì          22     luglio    notte  02:25   \n",
       "\n",
       "                             title  duration  duration_with_advertising  \\\n",
       "0                      match point       124                        125   \n",
       "1                      match point       124                        125   \n",
       "2                      match point       124                        141   \n",
       "3                      match point       124                        125   \n",
       "4                      match point       124                        125   \n",
       "...                            ...       ...                        ...   \n",
       "5138                   meo patacca       124                        138   \n",
       "5139                  i prepotenti        93                        101   \n",
       "5140                 le soldatesse       119                        139   \n",
       "5141              6000 km di paura        90                         92   \n",
       "5142  la polizia ha le mani legate        95                         97   \n",
       "\n",
       "             channel  year                  genres  rating  advertising  \n",
       "0     Sky Cinema Due  2005  Drama,Romance,Thriller     7.6            1  \n",
       "1     Sky Cinema Due  2005  Drama,Romance,Thriller     7.6            1  \n",
       "2               Iris  2005  Drama,Romance,Thriller     7.6           17  \n",
       "3     Sky Cinema Due  2005  Drama,Romance,Thriller     7.6            1  \n",
       "4     Sky Cinema Due  2005  Drama,Romance,Thriller     7.6            1  \n",
       "...              ...   ...                     ...     ...          ...  \n",
       "5138          Rete 4  1972        Adventure,Comedy     6.2           14  \n",
       "5139            Iris  1958                  Comedy     6.5            8  \n",
       "5140            Iris  1965               Drama,War     7.5           20  \n",
       "5141          Rete 4  1978        Action,Adventure     4.8            2  \n",
       "5142          Rete 4  1975      Action,Crime,Drama     6.7            2  \n",
       "\n",
       "[5143 rows x 13 columns]"
      ]
     },
     "execution_count": 10,
     "metadata": {},
     "output_type": "execute_result"
    }
   ],
   "source": [
    "df_final"
   ]
  },
  {
   "cell_type": "code",
   "execution_count": 59,
   "metadata": {},
   "outputs": [],
   "source": [
    "def jaccard(s1, s2):\n",
    "    union = set(s1.split(\",\")).union(set(s2.split(\",\")))\n",
    "    intersection = set(s1.split(\",\")).intersection(set(s2.split(\",\")))\n",
    "\n",
    "    return len(intersection) / len(union)\n",
    "\n",
    "\n"
   ]
  },
  {
   "cell_type": "code",
   "execution_count": null,
   "metadata": {},
   "outputs": [],
   "source": [
    "df = df_final[['day', 'day_number', 'month', 'daytime', 'title', 'duration', 'duration_with_advertising', 'year', 'genres', 'rating', 'advertising']]"
   ]
  },
  {
   "cell_type": "code",
   "execution_count": 15,
   "metadata": {},
   "outputs": [],
   "source": [
    "df_categorical = df_final[['day', 'month', 'daytime', 'title', 'genres']]"
   ]
  },
  {
   "cell_type": "code",
   "execution_count": 27,
   "metadata": {},
   "outputs": [],
   "source": [
    "df_numerical = df_final[['day_number', 'duration', 'duration_with_advertising', 'year', 'rating', 'advertising']]"
   ]
  },
  {
   "cell_type": "code",
   "execution_count": 28,
   "metadata": {},
   "outputs": [],
   "source": [
    "scaler = StandardScaler()\n",
    "numerical = scaler.fit_transform(df_numerical.to_numpy())"
   ]
  },
  {
   "cell_type": "code",
   "execution_count": 32,
   "metadata": {},
   "outputs": [],
   "source": [
    "shape = df_final.shape[0]"
   ]
  },
  {
   "cell_type": "code",
   "execution_count": 33,
   "metadata": {},
   "outputs": [],
   "source": [
    "dissM_days = np.zeros((shape, shape))\n",
    "dissM_months = np.zeros((shape, shape))\n",
    "dissM_daytimes = np.zeros((shape, shape))\n",
    "dissM_titles = np.zeros((shape, shape))\n",
    "dissM_genres = np.zeros((shape, shape))\n",
    "\n",
    "dissM_day_numbers = np.zeros((shape, shape))\n",
    "dissM_durations = np.zeros((shape, shape))\n",
    "dissM_durations_with_advertising = np.zeros((shape, shape))\n",
    "dissM_genres = np.zeros((shape, shape))\n",
    "dissM_years = np.zeros((shape, shape))\n",
    "dissM_ratings = np.zeros((shape, shape))\n",
    "dissM_advertising = np.zeros((shape, shape))"
   ]
  },
  {
   "cell_type": "code",
   "execution_count": 36,
   "metadata": {},
   "outputs": [],
   "source": [
    "genres = df_categorical['genres'].values"
   ]
  },
  {
   "cell_type": "code",
   "execution_count": 52,
   "metadata": {},
   "outputs": [
    {
     "data": {
      "text/plain": [
       "array(['Drama,Romance,Thriller', 'Drama,Romance,Thriller',\n",
       "       'Drama,Romance,Thriller', ..., 'Drama,War', 'Action,Adventure',\n",
       "       'Action,Crime,Drama'], dtype=object)"
      ]
     },
     "execution_count": 52,
     "metadata": {},
     "output_type": "execute_result"
    }
   ],
   "source": [
    "genres"
   ]
  },
  {
   "cell_type": "code",
   "execution_count": 61,
   "metadata": {},
   "outputs": [],
   "source": [
    "for i in range(shape):\n",
    "    for j in range(shape):\n",
    "\n",
    "        dissM_genres[i][j] = 1 - jaccard(genres[i], genres[j])\n",
    "        # dissM_months = np.zeros((shape, shape))\n",
    "        # dissM_daytimes = np.zeros((shape, shape))\n",
    "        # dissM_titles = np.zeros((shape, shape))\n",
    "        # dissM_genres = np.zeros((shape, shape))\n",
    "\n",
    "        # dissM_day_numbers = np.zeros((shape, shape))\n",
    "        # dissM_durations = np.zeros((shape, shape))\n",
    "        # dissM_durations_with_advertising = np.zeros((shape, shape))\n",
    "        # dissM_genres = np.zeros((shape, shape))\n",
    "        # dissM_years = np.zeros((shape, shape))\n",
    "        # dissM_ratings = np.zeros((shape, shape))\n",
    "        # dissM_advertising = np.zeros((shape, shape))\n"
   ]
  },
  {
   "cell_type": "code",
   "execution_count": 62,
   "metadata": {},
   "outputs": [
    {
     "data": {
      "text/plain": [
       "array([[0.  , 0.  , 0.  , ..., 0.75, 1.  , 0.8 ],\n",
       "       [0.  , 0.  , 0.  , ..., 0.75, 1.  , 0.8 ],\n",
       "       [0.  , 0.  , 0.  , ..., 0.75, 1.  , 0.8 ],\n",
       "       ...,\n",
       "       [0.75, 0.75, 0.75, ..., 0.  , 1.  , 0.75],\n",
       "       [1.  , 1.  , 1.  , ..., 1.  , 0.  , 0.75],\n",
       "       [0.8 , 0.8 , 0.8 , ..., 0.75, 0.75, 0.  ]])"
      ]
     },
     "execution_count": 62,
     "metadata": {},
     "output_type": "execute_result"
    }
   ],
   "source": [
    "dissM_genres"
   ]
  },
  {
   "cell_type": "code",
   "execution_count": 68,
   "metadata": {},
   "outputs": [],
   "source": [
    "mds = manifold.MDS(n_components=2, max_iter=2, eps=1e-9, dissimilarity=\"precomputed\", random_state=0)"
   ]
  },
  {
   "cell_type": "code",
   "execution_count": 69,
   "metadata": {},
   "outputs": [],
   "source": [
    "pos = mds.fit(dissM_genres).embedding_"
   ]
  },
  {
   "cell_type": "code",
   "execution_count": 71,
   "metadata": {},
   "outputs": [],
   "source": [
    "titles = df_categorical['title'].values"
   ]
  },
  {
   "cell_type": "code",
   "execution_count": 80,
   "metadata": {},
   "outputs": [
    {
     "data": {
      "image/png": "[encoded data removed]",
      "text/plain": [
       "<Figure size 1200x800 with 1 Axes>"
      ]
     },
     "metadata": {
      "needs_background": "light"
     },
     "output_type": "display_data"
    }
   ],
   "source": [
    "from matplotlib.pyplot import figure\n",
    "\n",
    "figure(figsize=(15, 10), dpi=80)\n",
    "\n",
    "plt.scatter(pos[:,0], pos[:,1], color='black',s=5, lw=0)\n",
    "plt.show()"
   ]
  },
  {
   "cell_type": "code",
   "execution_count": null,
   "metadata": {},
   "outputs": [],
   "source": []
  }
 ],
 "metadata": {
  "kernelspec": {
   "display_name": "DL",
   "language": "python",
   "name": "python3"
  },
  "language_info": {
   "codemirror_mode": {
    "name": "ipython",
    "version": 3
   },
   "file_extension": ".py",
   "mimetype": "text/x-python",
   "name": "python",
   "nbconvert_exporter": "python",
   "pygments_lexer": "ipython3",
   "version": "3.7.13"
  },
  "orig_nbformat": 4,
  "vscode": {
   "interpreter": {
    "hash": "bf37a2529baf03c803266b8d55d553bda8f92a60c47b8d9f7bdcfc02cbd55fef"
   }
  }
 },
 "nbformat": 4,
 "nbformat_minor": 2
}
